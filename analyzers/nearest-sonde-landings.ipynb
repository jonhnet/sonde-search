{
 "cells": [
  {
   "cell_type": "code",
   "execution_count": 1,
   "metadata": {},
   "outputs": [],
   "source": [
    "import data.cache\n",
    "from data.cache import get_sonde_summaries_as_dataframe\n",
    "all = get_sonde_summaries_as_dataframe()\n",
    "all = all[['serial', 'frame', 'datetime', 'lat', 'lon']].reset_index(drop=True)\n"
   ]
  },
  {
   "cell_type": "code",
   "execution_count": 2,
   "metadata": {},
   "outputs": [],
   "source": [
    "landings = all.loc[all.groupby('serial')['frame'].idxmax().unique()]"
   ]
  },
  {
   "cell_type": "code",
   "execution_count": 3,
   "metadata": {},
   "outputs": [],
   "source": [
    "near = landings.loc[(landings.lat >= 37) & (landings.lat <= 42)]\n",
    "near = near.loc[(near.lon >= -114) & (near.lon < -109)]"
   ]
  },
  {
   "cell_type": "code",
   "execution_count": 12,
   "metadata": {},
   "outputs": [],
   "source": [
    "\n",
    "import math\n",
    "import pandas as pd\n",
    "allpairs = []\n",
    "for i in range(len(near)):\n",
    "   a = near.iloc[i]\n",
    "   for j in range(i+1, len(near)):\n",
    "       b = near.iloc[j]\n",
    "       dist = math.sqrt((a.lat - b.lat)**2 + (a.lon - b.lon)**2)\n",
    "       if dist < .1:\n",
    "           allpairs.append({'a': a.serial, 'b': b.serial, 'dist': dist})"
   ]
  },
  {
   "cell_type": "code",
   "execution_count": 13,
   "metadata": {},
   "outputs": [
    {
     "data": {
      "text/plain": [
       "15152"
      ]
     },
     "execution_count": 13,
     "metadata": {},
     "output_type": "execute_result"
    }
   ],
   "source": [
    "len(allpairs)"
   ]
  },
  {
   "cell_type": "code",
   "execution_count": 16,
   "metadata": {},
   "outputs": [],
   "source": [
    "df2 = pd.DataFrame(allpairs).sort_values('dist')"
   ]
  },
  {
   "cell_type": "code",
   "execution_count": 17,
   "metadata": {},
   "outputs": [
    {
     "data": {
      "text/html": [
       "<div>\n",
       "<style scoped>\n",
       "    .dataframe tbody tr th:only-of-type {\n",
       "        vertical-align: middle;\n",
       "    }\n",
       "\n",
       "    .dataframe tbody tr th {\n",
       "        vertical-align: top;\n",
       "    }\n",
       "\n",
       "    .dataframe thead th {\n",
       "        text-align: right;\n",
       "    }\n",
       "</style>\n",
       "<table border=\"1\" class=\"dataframe\">\n",
       "  <thead>\n",
       "    <tr style=\"text-align: right;\">\n",
       "      <th></th>\n",
       "      <th>a</th>\n",
       "      <th>b</th>\n",
       "      <th>dist</th>\n",
       "    </tr>\n",
       "  </thead>\n",
       "  <tbody>\n",
       "    <tr>\n",
       "      <th>9665</th>\n",
       "      <td>22041331</td>\n",
       "      <td>T3420835</td>\n",
       "      <td>0.000041</td>\n",
       "    </tr>\n",
       "    <tr>\n",
       "      <th>2525</th>\n",
       "      <td>21007588</td>\n",
       "      <td>22054367</td>\n",
       "      <td>0.000422</td>\n",
       "    </tr>\n",
       "    <tr>\n",
       "      <th>14424</th>\n",
       "      <td>7345496</td>\n",
       "      <td>T3420835</td>\n",
       "      <td>0.000492</td>\n",
       "    </tr>\n",
       "    <tr>\n",
       "      <th>9663</th>\n",
       "      <td>22041331</td>\n",
       "      <td>7345496</td>\n",
       "      <td>0.000530</td>\n",
       "    </tr>\n",
       "    <tr>\n",
       "      <th>2800</th>\n",
       "      <td>21010136</td>\n",
       "      <td>23019403</td>\n",
       "      <td>0.000708</td>\n",
       "    </tr>\n",
       "    <tr>\n",
       "      <th>...</th>\n",
       "      <td>...</td>\n",
       "      <td>...</td>\n",
       "      <td>...</td>\n",
       "    </tr>\n",
       "    <tr>\n",
       "      <th>529</th>\n",
       "      <td>20042028</td>\n",
       "      <td>22053861</td>\n",
       "      <td>0.099987</td>\n",
       "    </tr>\n",
       "    <tr>\n",
       "      <th>2231</th>\n",
       "      <td>20062070</td>\n",
       "      <td>22053893</td>\n",
       "      <td>0.099989</td>\n",
       "    </tr>\n",
       "    <tr>\n",
       "      <th>14016</th>\n",
       "      <td>23026449</td>\n",
       "      <td>23026636</td>\n",
       "      <td>0.099993</td>\n",
       "    </tr>\n",
       "    <tr>\n",
       "      <th>5890</th>\n",
       "      <td>22003835</td>\n",
       "      <td>22013013</td>\n",
       "      <td>0.099995</td>\n",
       "    </tr>\n",
       "    <tr>\n",
       "      <th>8270</th>\n",
       "      <td>22021144</td>\n",
       "      <td>23041173</td>\n",
       "      <td>0.099995</td>\n",
       "    </tr>\n",
       "  </tbody>\n",
       "</table>\n",
       "<p>15152 rows × 3 columns</p>\n",
       "</div>"
      ],
      "text/plain": [
       "              a         b      dist\n",
       "9665   22041331  T3420835  0.000041\n",
       "2525   21007588  22054367  0.000422\n",
       "14424   7345496  T3420835  0.000492\n",
       "9663   22041331   7345496  0.000530\n",
       "2800   21010136  23019403  0.000708\n",
       "...         ...       ...       ...\n",
       "529    20042028  22053861  0.099987\n",
       "2231   20062070  22053893  0.099989\n",
       "14016  23026449  23026636  0.099993\n",
       "5890   22003835  22013013  0.099995\n",
       "8270   22021144  23041173  0.099995\n",
       "\n",
       "[15152 rows x 3 columns]"
      ]
     },
     "execution_count": 17,
     "metadata": {},
     "output_type": "execute_result"
    }
   ],
   "source": [
    "df2"
   ]
  },
  {
   "cell_type": "code",
   "execution_count": 20,
   "metadata": {},
   "outputs": [
    {
     "data": {
      "text/html": [
       "<div>\n",
       "<style scoped>\n",
       "    .dataframe tbody tr th:only-of-type {\n",
       "        vertical-align: middle;\n",
       "    }\n",
       "\n",
       "    .dataframe tbody tr th {\n",
       "        vertical-align: top;\n",
       "    }\n",
       "\n",
       "    .dataframe thead th {\n",
       "        text-align: right;\n",
       "    }\n",
       "</style>\n",
       "<table border=\"1\" class=\"dataframe\">\n",
       "  <thead>\n",
       "    <tr style=\"text-align: right;\">\n",
       "      <th></th>\n",
       "      <th>serial</th>\n",
       "      <th>frame</th>\n",
       "      <th>datetime</th>\n",
       "      <th>lat</th>\n",
       "      <th>lon</th>\n",
       "    </tr>\n",
       "  </thead>\n",
       "  <tbody>\n",
       "    <tr>\n",
       "      <th>652260</th>\n",
       "      <td>22041331</td>\n",
       "      <td>1354015511</td>\n",
       "      <td>2022-12-02 11:25:11+00:00</td>\n",
       "      <td>40.86214</td>\n",
       "      <td>-115.54653</td>\n",
       "    </tr>\n",
       "    <tr>\n",
       "      <th>671505</th>\n",
       "      <td>22041331</td>\n",
       "      <td>1354015511</td>\n",
       "      <td>2022-12-02 11:25:11+00:00</td>\n",
       "      <td>40.86214</td>\n",
       "      <td>-115.54653</td>\n",
       "    </tr>\n",
       "    <tr>\n",
       "      <th>652261</th>\n",
       "      <td>22041331</td>\n",
       "      <td>1354020700</td>\n",
       "      <td>2022-12-02 12:51:40+00:00</td>\n",
       "      <td>41.01421</td>\n",
       "      <td>-113.82579</td>\n",
       "    </tr>\n",
       "    <tr>\n",
       "      <th>671506</th>\n",
       "      <td>22041331</td>\n",
       "      <td>1354020700</td>\n",
       "      <td>2022-12-02 12:51:40+00:00</td>\n",
       "      <td>41.01421</td>\n",
       "      <td>-113.82579</td>\n",
       "    </tr>\n",
       "    <tr>\n",
       "      <th>652262</th>\n",
       "      <td>22041331</td>\n",
       "      <td>1354645784</td>\n",
       "      <td>2022-12-09 18:29:44+00:00</td>\n",
       "      <td>41.09435</td>\n",
       "      <td>-111.92789</td>\n",
       "    </tr>\n",
       "    <tr>\n",
       "      <th>671507</th>\n",
       "      <td>22041331</td>\n",
       "      <td>1354645784</td>\n",
       "      <td>2022-12-09 18:29:44+00:00</td>\n",
       "      <td>41.09435</td>\n",
       "      <td>-111.92789</td>\n",
       "    </tr>\n",
       "  </tbody>\n",
       "</table>\n",
       "</div>"
      ],
      "text/plain": [
       "          serial       frame                  datetime       lat        lon\n",
       "652260  22041331  1354015511 2022-12-02 11:25:11+00:00  40.86214 -115.54653\n",
       "671505  22041331  1354015511 2022-12-02 11:25:11+00:00  40.86214 -115.54653\n",
       "652261  22041331  1354020700 2022-12-02 12:51:40+00:00  41.01421 -113.82579\n",
       "671506  22041331  1354020700 2022-12-02 12:51:40+00:00  41.01421 -113.82579\n",
       "652262  22041331  1354645784 2022-12-09 18:29:44+00:00  41.09435 -111.92789\n",
       "671507  22041331  1354645784 2022-12-09 18:29:44+00:00  41.09435 -111.92789"
      ]
     },
     "execution_count": 20,
     "metadata": {},
     "output_type": "execute_result"
    }
   ],
   "source": [
    "all.loc[all['serial'] == '22041331'].sort_values('frame')"
   ]
  },
  {
   "cell_type": "code",
   "execution_count": 21,
   "metadata": {},
   "outputs": [
    {
     "data": {
      "text/html": [
       "<div>\n",
       "<style scoped>\n",
       "    .dataframe tbody tr th:only-of-type {\n",
       "        vertical-align: middle;\n",
       "    }\n",
       "\n",
       "    .dataframe tbody tr th {\n",
       "        vertical-align: top;\n",
       "    }\n",
       "\n",
       "    .dataframe thead th {\n",
       "        text-align: right;\n",
       "    }\n",
       "</style>\n",
       "<table border=\"1\" class=\"dataframe\">\n",
       "  <thead>\n",
       "    <tr style=\"text-align: right;\">\n",
       "      <th></th>\n",
       "      <th>serial</th>\n",
       "      <th>frame</th>\n",
       "      <th>datetime</th>\n",
       "      <th>lat</th>\n",
       "      <th>lon</th>\n",
       "    </tr>\n",
       "  </thead>\n",
       "  <tbody>\n",
       "    <tr>\n",
       "      <th>1580745</th>\n",
       "      <td>T3420835</td>\n",
       "      <td>1716</td>\n",
       "      <td>2023-06-13 16:08:31.999000+00:00</td>\n",
       "      <td>41.05725</td>\n",
       "      <td>-112.93506</td>\n",
       "    </tr>\n",
       "    <tr>\n",
       "      <th>1599363</th>\n",
       "      <td>T3420835</td>\n",
       "      <td>1716</td>\n",
       "      <td>2023-06-13 16:08:31.999000+00:00</td>\n",
       "      <td>41.05725</td>\n",
       "      <td>-112.93506</td>\n",
       "    </tr>\n",
       "    <tr>\n",
       "      <th>1580746</th>\n",
       "      <td>T3420835</td>\n",
       "      <td>6342</td>\n",
       "      <td>2023-06-13 17:25:38+00:00</td>\n",
       "      <td>40.91497</td>\n",
       "      <td>-112.98512</td>\n",
       "    </tr>\n",
       "    <tr>\n",
       "      <th>1599364</th>\n",
       "      <td>T3420835</td>\n",
       "      <td>6342</td>\n",
       "      <td>2023-06-13 17:25:38+00:00</td>\n",
       "      <td>40.91497</td>\n",
       "      <td>-112.98512</td>\n",
       "    </tr>\n",
       "    <tr>\n",
       "      <th>1580747</th>\n",
       "      <td>T3420835</td>\n",
       "      <td>30219</td>\n",
       "      <td>2023-06-14 00:03:35.001000+00:00</td>\n",
       "      <td>41.09439</td>\n",
       "      <td>-111.92790</td>\n",
       "    </tr>\n",
       "    <tr>\n",
       "      <th>1599365</th>\n",
       "      <td>T3420835</td>\n",
       "      <td>30219</td>\n",
       "      <td>2023-06-14 00:03:35.001000+00:00</td>\n",
       "      <td>41.09439</td>\n",
       "      <td>-111.92790</td>\n",
       "    </tr>\n",
       "  </tbody>\n",
       "</table>\n",
       "</div>"
      ],
      "text/plain": [
       "           serial  frame                         datetime       lat        lon\n",
       "1580745  T3420835   1716 2023-06-13 16:08:31.999000+00:00  41.05725 -112.93506\n",
       "1599363  T3420835   1716 2023-06-13 16:08:31.999000+00:00  41.05725 -112.93506\n",
       "1580746  T3420835   6342        2023-06-13 17:25:38+00:00  40.91497 -112.98512\n",
       "1599364  T3420835   6342        2023-06-13 17:25:38+00:00  40.91497 -112.98512\n",
       "1580747  T3420835  30219 2023-06-14 00:03:35.001000+00:00  41.09439 -111.92790\n",
       "1599365  T3420835  30219 2023-06-14 00:03:35.001000+00:00  41.09439 -111.92790"
      ]
     },
     "execution_count": 21,
     "metadata": {},
     "output_type": "execute_result"
    }
   ],
   "source": [
    "all.loc[all['serial'] == 'T3420835'].sort_values('frame')"
   ]
  },
  {
   "cell_type": "code",
   "execution_count": 25,
   "metadata": {},
   "outputs": [
    {
     "name": "stdout",
     "output_type": "stream",
     "text": [
      "       a        b     dist\n",
      "22041331 T3420835 0.000041\n",
      "21007588 22054367 0.000422\n",
      " 7345496 T3420835 0.000492\n",
      "22041331  7345496 0.000530\n",
      "21010136 23019403 0.000708\n",
      "22031308 22055845 0.001000\n",
      "21045789 23010133 0.001232\n",
      "22040916 22041704 0.001571\n",
      "22042862 U1520138 0.001748\n",
      "22055787 23034200 0.002013\n",
      "23013143 23013491 0.002140\n",
      "22040998 23019032 0.002293\n",
      "22019394 22054537 0.002429\n",
      "22031228 22051959 0.002577\n",
      "22044738 23009810 0.002591\n",
      "23020394 23026678 0.002616\n",
      "23020417 59903432 0.003082\n",
      "22020712 22044780 0.003148\n",
      "T3340552 U1510758 0.003505\n",
      "21011626 22020162 0.003549\n"
     ]
    }
   ],
   "source": [
    "print(df2.head(20))"
   ]
  },
  {
   "cell_type": "code",
   "execution_count": 5,
   "metadata": {},
   "outputs": [
    {
     "data": {
      "text/plain": [
       "array([1.41421356, 1.73205081, 2.23606798])"
      ]
     },
     "execution_count": 5,
     "metadata": {},
     "output_type": "execute_result"
    }
   ],
   "source": [
    "import numpy\n",
    "numpy.sqrt([2, 3, 5])"
   ]
  },
  {
   "cell_type": "code",
   "execution_count": 16,
   "metadata": {},
   "outputs": [
    {
     "data": {
      "text/html": [
       "<div>\n",
       "<style scoped>\n",
       "    .dataframe tbody tr th:only-of-type {\n",
       "        vertical-align: middle;\n",
       "    }\n",
       "\n",
       "    .dataframe tbody tr th {\n",
       "        vertical-align: top;\n",
       "    }\n",
       "\n",
       "    .dataframe thead th {\n",
       "        text-align: right;\n",
       "    }\n",
       "</style>\n",
       "<table border=\"1\" class=\"dataframe\">\n",
       "  <thead>\n",
       "    <tr style=\"text-align: right;\">\n",
       "      <th></th>\n",
       "      <th>0</th>\n",
       "      <th>1</th>\n",
       "    </tr>\n",
       "  </thead>\n",
       "  <tbody>\n",
       "    <tr>\n",
       "      <th>0</th>\n",
       "      <td>99.0</td>\n",
       "      <td>1</td>\n",
       "    </tr>\n",
       "    <tr>\n",
       "      <th>1</th>\n",
       "      <td>NaN</td>\n",
       "      <td>2</td>\n",
       "    </tr>\n",
       "    <tr>\n",
       "      <th>2</th>\n",
       "      <td>NaN</td>\n",
       "      <td>3</td>\n",
       "    </tr>\n",
       "    <tr>\n",
       "      <th>3</th>\n",
       "      <td>NaN</td>\n",
       "      <td>4</td>\n",
       "    </tr>\n",
       "  </tbody>\n",
       "</table>\n",
       "</div>"
      ],
      "text/plain": [
       "      0  1\n",
       "0  99.0  1\n",
       "1   NaN  2\n",
       "2   NaN  3\n",
       "3   NaN  4"
      ]
     },
     "execution_count": 16,
     "metadata": {},
     "output_type": "execute_result"
    }
   ],
   "source": [
    "import pandas as pd\n",
    "pd.concat([pd.Series([99]), pd.Series([1,2,3,4])], axis=1)"
   ]
  },
  {
   "cell_type": "code",
   "execution_count": null,
   "metadata": {},
   "outputs": [],
   "source": []
  }
 ],
 "metadata": {
  "kernelspec": {
   "display_name": "Python 3",
   "language": "python",
   "name": "python3"
  },
  "language_info": {
   "codemirror_mode": {
    "name": "ipython",
    "version": 3
   },
   "file_extension": ".py",
   "mimetype": "text/x-python",
   "name": "python",
   "nbconvert_exporter": "python",
   "pygments_lexer": "ipython3",
   "version": "3.12.3"
  }
 },
 "nbformat": 4,
 "nbformat_minor": 2
}
